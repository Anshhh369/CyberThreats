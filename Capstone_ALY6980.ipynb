{
 "cells": [
  {
   "cell_type": "code",
   "execution_count": 1,
   "id": "ac9facfd",
   "metadata": {},
   "outputs": [],
   "source": [
    "# Import necessary libraries\n",
    "\n",
    "import pandas as pd\n",
    "import numpy as np\n",
    "import seaborn as sns\n",
    "import matplotlib.pyplot as plt\n",
    "from sklearn import datasets\n",
    "\n",
    "from sklearn.model_selection import train_test_split\n",
    "from sklearn.tree import DecisionTreeClassifier\n",
    "from sklearn.linear_model import LogisticRegression\n",
    "from sklearn.ensemble import RandomForestClassifier\n",
    "from sklearn.svm import SVC\n",
    "from sklearn.neighbors import KNeighborsClassifier\n",
    "\n",
    "from sklearn.compose import ColumnTransformer\n",
    "from sklearn.preprocessing import OneHotEncoder\n",
    "from sklearn.metrics import accuracy_score, classification_report, confusion_matrix, plot_confusion_matrix"
   ]
  },
  {
   "cell_type": "code",
   "execution_count": 2,
   "id": "0add265e",
   "metadata": {},
   "outputs": [],
   "source": [
    "# Load dataset\n",
    "\n",
    "df = pd.read_csv(\"/Users/anshaya/Desktop/Capstone/Sample Code and Input/Additional Datasets and Code (Code Dx)/atom (30 May 2020).csv\")"
   ]
  },
  {
   "cell_type": "code",
   "execution_count": 3,
   "id": "afade622",
   "metadata": {},
   "outputs": [
    {
     "data": {
      "text/plain": [
       "(707, 10)"
      ]
     },
     "execution_count": 3,
     "metadata": {},
     "output_type": "execute_result"
    }
   ],
   "source": [
    "# Shape of the dataset\n",
    "\n",
    "df.shape"
   ]
  },
  {
   "cell_type": "code",
   "execution_count": 4,
   "id": "5f2b1e55",
   "metadata": {},
   "outputs": [
    {
     "data": {
      "text/plain": [
       "Index(['ID', 'Severity', 'CWE', 'Type', 'Tool', 'Location', 'Path', 'FileName',\n",
       "       'Line', 'Status'],\n",
       "      dtype='object')"
      ]
     },
     "execution_count": 4,
     "metadata": {},
     "output_type": "execute_result"
    }
   ],
   "source": [
    "# Columns in the dataset\n",
    "\n",
    "df.columns"
   ]
  },
  {
   "cell_type": "code",
   "execution_count": 5,
   "id": "84372492",
   "metadata": {},
   "outputs": [
    {
     "data": {
      "text/html": [
       "<div>\n",
       "<style scoped>\n",
       "    .dataframe tbody tr th:only-of-type {\n",
       "        vertical-align: middle;\n",
       "    }\n",
       "\n",
       "    .dataframe tbody tr th {\n",
       "        vertical-align: top;\n",
       "    }\n",
       "\n",
       "    .dataframe thead th {\n",
       "        text-align: right;\n",
       "    }\n",
       "</style>\n",
       "<table border=\"1\" class=\"dataframe\">\n",
       "  <thead>\n",
       "    <tr style=\"text-align: right;\">\n",
       "      <th></th>\n",
       "      <th>ID</th>\n",
       "      <th>Severity</th>\n",
       "      <th>CWE</th>\n",
       "      <th>Type</th>\n",
       "      <th>Tool</th>\n",
       "      <th>Location</th>\n",
       "      <th>Path</th>\n",
       "      <th>FileName</th>\n",
       "      <th>Line</th>\n",
       "      <th>Status</th>\n",
       "    </tr>\n",
       "  </thead>\n",
       "  <tbody>\n",
       "    <tr>\n",
       "      <th>0</th>\n",
       "      <td>66621</td>\n",
       "      <td>High</td>\n",
       "      <td>22.0</td>\n",
       "      <td>Path Traversal</td>\n",
       "      <td>ESLint</td>\n",
       "      <td>Atom x64\\resources\\app\\apm\\lib\\link.js</td>\n",
       "      <td>Atom x64\\resources\\app\\apm\\lib</td>\n",
       "      <td>NaN</td>\n",
       "      <td>52</td>\n",
       "      <td>Escalated</td>\n",
       "    </tr>\n",
       "    <tr>\n",
       "      <th>1</th>\n",
       "      <td>66622</td>\n",
       "      <td>Medium</td>\n",
       "      <td>665.0</td>\n",
       "      <td>Initialization</td>\n",
       "      <td>ESLint</td>\n",
       "      <td>Atom x64\\resources\\app\\apm\\lib\\link.js</td>\n",
       "      <td>Atom x64\\resources\\app\\apm\\lib</td>\n",
       "      <td>NaN</td>\n",
       "      <td>4</td>\n",
       "      <td>False Positive</td>\n",
       "    </tr>\n",
       "    <tr>\n",
       "      <th>2</th>\n",
       "      <td>66623</td>\n",
       "      <td>Medium</td>\n",
       "      <td>665.0</td>\n",
       "      <td>Initialization</td>\n",
       "      <td>ESLint</td>\n",
       "      <td>Atom x64\\resources\\app\\apm\\lib\\link.js</td>\n",
       "      <td>Atom x64\\resources\\app\\apm\\lib</td>\n",
       "      <td>NaN</td>\n",
       "      <td>8</td>\n",
       "      <td>False Positive</td>\n",
       "    </tr>\n",
       "    <tr>\n",
       "      <th>3</th>\n",
       "      <td>66624</td>\n",
       "      <td>High</td>\n",
       "      <td>22.0</td>\n",
       "      <td>Path Traversal</td>\n",
       "      <td>ESLint</td>\n",
       "      <td>Atom x64\\resources\\app\\apm\\lib\\link.js</td>\n",
       "      <td>Atom x64\\resources\\app\\apm\\lib</td>\n",
       "      <td>NaN</td>\n",
       "      <td>35</td>\n",
       "      <td>Escalated</td>\n",
       "    </tr>\n",
       "    <tr>\n",
       "      <th>4</th>\n",
       "      <td>66626</td>\n",
       "      <td>Medium</td>\n",
       "      <td>665.0</td>\n",
       "      <td>Initialization</td>\n",
       "      <td>ESLint</td>\n",
       "      <td>Atom x64\\resources\\app\\apm\\lib\\link.js</td>\n",
       "      <td>Atom x64\\resources\\app\\apm\\lib</td>\n",
       "      <td>NaN</td>\n",
       "      <td>6</td>\n",
       "      <td>False Positive</td>\n",
       "    </tr>\n",
       "    <tr>\n",
       "      <th>5</th>\n",
       "      <td>66627</td>\n",
       "      <td>Medium</td>\n",
       "      <td>665.0</td>\n",
       "      <td>Initialization</td>\n",
       "      <td>ESLint</td>\n",
       "      <td>Atom x64\\resources\\app\\apm\\lib\\link.js</td>\n",
       "      <td>Atom x64\\resources\\app\\apm\\lib</td>\n",
       "      <td>NaN</td>\n",
       "      <td>10</td>\n",
       "      <td>False Positive</td>\n",
       "    </tr>\n",
       "    <tr>\n",
       "      <th>6</th>\n",
       "      <td>66628</td>\n",
       "      <td>Medium</td>\n",
       "      <td>665.0</td>\n",
       "      <td>Initialization</td>\n",
       "      <td>ESLint</td>\n",
       "      <td>Atom x64\\resources\\app\\apm\\lib\\link.js</td>\n",
       "      <td>Atom x64\\resources\\app\\apm\\lib</td>\n",
       "      <td>NaN</td>\n",
       "      <td>12</td>\n",
       "      <td>False Positive</td>\n",
       "    </tr>\n",
       "    <tr>\n",
       "      <th>7</th>\n",
       "      <td>66630</td>\n",
       "      <td>Medium</td>\n",
       "      <td>665.0</td>\n",
       "      <td>Initialization</td>\n",
       "      <td>ESLint</td>\n",
       "      <td>Atom x64\\resources\\app\\apm\\lib\\link.js</td>\n",
       "      <td>Atom x64\\resources\\app\\apm\\lib</td>\n",
       "      <td>NaN</td>\n",
       "      <td>16</td>\n",
       "      <td>False Positive</td>\n",
       "    </tr>\n",
       "    <tr>\n",
       "      <th>8</th>\n",
       "      <td>66631</td>\n",
       "      <td>Medium</td>\n",
       "      <td>665.0</td>\n",
       "      <td>Initialization</td>\n",
       "      <td>ESLint</td>\n",
       "      <td>Atom x64\\resources\\app\\apm\\lib\\link.js</td>\n",
       "      <td>Atom x64\\resources\\app\\apm\\lib</td>\n",
       "      <td>NaN</td>\n",
       "      <td>31</td>\n",
       "      <td>False Positive</td>\n",
       "    </tr>\n",
       "    <tr>\n",
       "      <th>9</th>\n",
       "      <td>66633</td>\n",
       "      <td>Medium</td>\n",
       "      <td>665.0</td>\n",
       "      <td>Initialization</td>\n",
       "      <td>ESLint</td>\n",
       "      <td>Atom x64\\resources\\app\\apm\\lib\\link.js</td>\n",
       "      <td>Atom x64\\resources\\app\\apm\\lib</td>\n",
       "      <td>NaN</td>\n",
       "      <td>14</td>\n",
       "      <td>False Positive</td>\n",
       "    </tr>\n",
       "    <tr>\n",
       "      <th>10</th>\n",
       "      <td>66634</td>\n",
       "      <td>High</td>\n",
       "      <td>22.0</td>\n",
       "      <td>Path Traversal</td>\n",
       "      <td>ESLint</td>\n",
       "      <td>Atom x64\\resources\\app\\apm\\lib\\link.js</td>\n",
       "      <td>Atom x64\\resources\\app\\apm\\lib</td>\n",
       "      <td>NaN</td>\n",
       "      <td>55</td>\n",
       "      <td>Escalated</td>\n",
       "    </tr>\n",
       "    <tr>\n",
       "      <th>11</th>\n",
       "      <td>66637</td>\n",
       "      <td>High</td>\n",
       "      <td>79.0</td>\n",
       "      <td>Cross-site Scripting (XSS)</td>\n",
       "      <td>ESLint</td>\n",
       "      <td>Atom x64\\resources\\app\\apm\\lib\\link.js</td>\n",
       "      <td>Atom x64\\resources\\app\\apm\\lib</td>\n",
       "      <td>NaN</td>\n",
       "      <td>21</td>\n",
       "      <td>Escalated</td>\n",
       "    </tr>\n",
       "    <tr>\n",
       "      <th>12</th>\n",
       "      <td>66638</td>\n",
       "      <td>High</td>\n",
       "      <td>22.0</td>\n",
       "      <td>Path Traversal</td>\n",
       "      <td>ESLint</td>\n",
       "      <td>Atom x64\\resources\\app\\apm\\lib\\link.js</td>\n",
       "      <td>Atom x64\\resources\\app\\apm\\lib</td>\n",
       "      <td>NaN</td>\n",
       "      <td>46</td>\n",
       "      <td>Escalated</td>\n",
       "    </tr>\n",
       "    <tr>\n",
       "      <th>13</th>\n",
       "      <td>66777</td>\n",
       "      <td>Medium</td>\n",
       "      <td>665.0</td>\n",
       "      <td>Initialization</td>\n",
       "      <td>ESLint</td>\n",
       "      <td>Atom x64\\resources\\app\\apm\\lib\\star.js</td>\n",
       "      <td>Atom x64\\resources\\app\\apm\\lib</td>\n",
       "      <td>NaN</td>\n",
       "      <td>16</td>\n",
       "      <td>False Positive</td>\n",
       "    </tr>\n",
       "    <tr>\n",
       "      <th>14</th>\n",
       "      <td>66778</td>\n",
       "      <td>Medium</td>\n",
       "      <td>665.0</td>\n",
       "      <td>Initialization</td>\n",
       "      <td>ESLint</td>\n",
       "      <td>Atom x64\\resources\\app\\apm\\lib\\star.js</td>\n",
       "      <td>Atom x64\\resources\\app\\apm\\lib</td>\n",
       "      <td>NaN</td>\n",
       "      <td>8</td>\n",
       "      <td>False Positive</td>\n",
       "    </tr>\n",
       "    <tr>\n",
       "      <th>15</th>\n",
       "      <td>66780</td>\n",
       "      <td>High</td>\n",
       "      <td>22.0</td>\n",
       "      <td>Path Traversal</td>\n",
       "      <td>ESLint</td>\n",
       "      <td>Atom x64\\resources\\app\\apm\\lib\\star.js</td>\n",
       "      <td>Atom x64\\resources\\app\\apm\\lib</td>\n",
       "      <td>NaN</td>\n",
       "      <td>80</td>\n",
       "      <td>Escalated</td>\n",
       "    </tr>\n",
       "    <tr>\n",
       "      <th>16</th>\n",
       "      <td>66782</td>\n",
       "      <td>Medium</td>\n",
       "      <td>665.0</td>\n",
       "      <td>Initialization</td>\n",
       "      <td>ESLint</td>\n",
       "      <td>Atom x64\\resources\\app\\apm\\lib\\star.js</td>\n",
       "      <td>Atom x64\\resources\\app\\apm\\lib</td>\n",
       "      <td>NaN</td>\n",
       "      <td>6</td>\n",
       "      <td>False Positive</td>\n",
       "    </tr>\n",
       "    <tr>\n",
       "      <th>17</th>\n",
       "      <td>66785</td>\n",
       "      <td>Medium</td>\n",
       "      <td>665.0</td>\n",
       "      <td>Initialization</td>\n",
       "      <td>ESLint</td>\n",
       "      <td>Atom x64\\resources\\app\\apm\\lib\\star.js</td>\n",
       "      <td>Atom x64\\resources\\app\\apm\\lib</td>\n",
       "      <td>NaN</td>\n",
       "      <td>22</td>\n",
       "      <td>False Positive</td>\n",
       "    </tr>\n",
       "    <tr>\n",
       "      <th>18</th>\n",
       "      <td>66786</td>\n",
       "      <td>Medium</td>\n",
       "      <td>665.0</td>\n",
       "      <td>Initialization</td>\n",
       "      <td>ESLint</td>\n",
       "      <td>Atom x64\\resources\\app\\apm\\lib\\star.js</td>\n",
       "      <td>Atom x64\\resources\\app\\apm\\lib</td>\n",
       "      <td>NaN</td>\n",
       "      <td>39</td>\n",
       "      <td>False Positive</td>\n",
       "    </tr>\n",
       "    <tr>\n",
       "      <th>19</th>\n",
       "      <td>66787</td>\n",
       "      <td>Medium</td>\n",
       "      <td>665.0</td>\n",
       "      <td>Initialization</td>\n",
       "      <td>ESLint</td>\n",
       "      <td>Atom x64\\resources\\app\\apm\\lib\\star.js</td>\n",
       "      <td>Atom x64\\resources\\app\\apm\\lib</td>\n",
       "      <td>NaN</td>\n",
       "      <td>12</td>\n",
       "      <td>False Positive</td>\n",
       "    </tr>\n",
       "  </tbody>\n",
       "</table>\n",
       "</div>"
      ],
      "text/plain": [
       "       ID Severity    CWE                        Type    Tool  \\\n",
       "0   66621     High   22.0              Path Traversal  ESLint   \n",
       "1   66622   Medium  665.0              Initialization  ESLint   \n",
       "2   66623   Medium  665.0              Initialization  ESLint   \n",
       "3   66624     High   22.0              Path Traversal  ESLint   \n",
       "4   66626   Medium  665.0              Initialization  ESLint   \n",
       "5   66627   Medium  665.0              Initialization  ESLint   \n",
       "6   66628   Medium  665.0              Initialization  ESLint   \n",
       "7   66630   Medium  665.0              Initialization  ESLint   \n",
       "8   66631   Medium  665.0              Initialization  ESLint   \n",
       "9   66633   Medium  665.0              Initialization  ESLint   \n",
       "10  66634     High   22.0              Path Traversal  ESLint   \n",
       "11  66637     High   79.0  Cross-site Scripting (XSS)  ESLint   \n",
       "12  66638     High   22.0              Path Traversal  ESLint   \n",
       "13  66777   Medium  665.0              Initialization  ESLint   \n",
       "14  66778   Medium  665.0              Initialization  ESLint   \n",
       "15  66780     High   22.0              Path Traversal  ESLint   \n",
       "16  66782   Medium  665.0              Initialization  ESLint   \n",
       "17  66785   Medium  665.0              Initialization  ESLint   \n",
       "18  66786   Medium  665.0              Initialization  ESLint   \n",
       "19  66787   Medium  665.0              Initialization  ESLint   \n",
       "\n",
       "                                  Location                            Path  \\\n",
       "0   Atom x64\\resources\\app\\apm\\lib\\link.js  Atom x64\\resources\\app\\apm\\lib   \n",
       "1   Atom x64\\resources\\app\\apm\\lib\\link.js  Atom x64\\resources\\app\\apm\\lib   \n",
       "2   Atom x64\\resources\\app\\apm\\lib\\link.js  Atom x64\\resources\\app\\apm\\lib   \n",
       "3   Atom x64\\resources\\app\\apm\\lib\\link.js  Atom x64\\resources\\app\\apm\\lib   \n",
       "4   Atom x64\\resources\\app\\apm\\lib\\link.js  Atom x64\\resources\\app\\apm\\lib   \n",
       "5   Atom x64\\resources\\app\\apm\\lib\\link.js  Atom x64\\resources\\app\\apm\\lib   \n",
       "6   Atom x64\\resources\\app\\apm\\lib\\link.js  Atom x64\\resources\\app\\apm\\lib   \n",
       "7   Atom x64\\resources\\app\\apm\\lib\\link.js  Atom x64\\resources\\app\\apm\\lib   \n",
       "8   Atom x64\\resources\\app\\apm\\lib\\link.js  Atom x64\\resources\\app\\apm\\lib   \n",
       "9   Atom x64\\resources\\app\\apm\\lib\\link.js  Atom x64\\resources\\app\\apm\\lib   \n",
       "10  Atom x64\\resources\\app\\apm\\lib\\link.js  Atom x64\\resources\\app\\apm\\lib   \n",
       "11  Atom x64\\resources\\app\\apm\\lib\\link.js  Atom x64\\resources\\app\\apm\\lib   \n",
       "12  Atom x64\\resources\\app\\apm\\lib\\link.js  Atom x64\\resources\\app\\apm\\lib   \n",
       "13  Atom x64\\resources\\app\\apm\\lib\\star.js  Atom x64\\resources\\app\\apm\\lib   \n",
       "14  Atom x64\\resources\\app\\apm\\lib\\star.js  Atom x64\\resources\\app\\apm\\lib   \n",
       "15  Atom x64\\resources\\app\\apm\\lib\\star.js  Atom x64\\resources\\app\\apm\\lib   \n",
       "16  Atom x64\\resources\\app\\apm\\lib\\star.js  Atom x64\\resources\\app\\apm\\lib   \n",
       "17  Atom x64\\resources\\app\\apm\\lib\\star.js  Atom x64\\resources\\app\\apm\\lib   \n",
       "18  Atom x64\\resources\\app\\apm\\lib\\star.js  Atom x64\\resources\\app\\apm\\lib   \n",
       "19  Atom x64\\resources\\app\\apm\\lib\\star.js  Atom x64\\resources\\app\\apm\\lib   \n",
       "\n",
       "    FileName  Line          Status  \n",
       "0        NaN    52       Escalated  \n",
       "1        NaN     4  False Positive  \n",
       "2        NaN     8  False Positive  \n",
       "3        NaN    35       Escalated  \n",
       "4        NaN     6  False Positive  \n",
       "5        NaN    10  False Positive  \n",
       "6        NaN    12  False Positive  \n",
       "7        NaN    16  False Positive  \n",
       "8        NaN    31  False Positive  \n",
       "9        NaN    14  False Positive  \n",
       "10       NaN    55       Escalated  \n",
       "11       NaN    21       Escalated  \n",
       "12       NaN    46       Escalated  \n",
       "13       NaN    16  False Positive  \n",
       "14       NaN     8  False Positive  \n",
       "15       NaN    80       Escalated  \n",
       "16       NaN     6  False Positive  \n",
       "17       NaN    22  False Positive  \n",
       "18       NaN    39  False Positive  \n",
       "19       NaN    12  False Positive  "
      ]
     },
     "execution_count": 5,
     "metadata": {},
     "output_type": "execute_result"
    }
   ],
   "source": [
    "# Head of the dataset\n",
    "\n",
    "df.head(n=20)"
   ]
  },
  {
   "cell_type": "code",
   "execution_count": 6,
   "id": "a7b47aee",
   "metadata": {},
   "outputs": [
    {
     "data": {
      "text/plain": [
       "array(['Escalated', 'False Positive'], dtype=object)"
      ]
     },
     "execution_count": 6,
     "metadata": {},
     "output_type": "execute_result"
    }
   ],
   "source": [
    "# Target variable values\n",
    "\n",
    "df[\"Status\"].unique()"
   ]
  },
  {
   "cell_type": "code",
   "execution_count": 7,
   "id": "8bf50b83",
   "metadata": {},
   "outputs": [
    {
     "data": {
      "text/plain": [
       "ID            0\n",
       "Severity      0\n",
       "CWE           1\n",
       "Type          0\n",
       "Tool          0\n",
       "Location      0\n",
       "Path          0\n",
       "FileName    707\n",
       "Line          0\n",
       "Status        0\n",
       "dtype: int64"
      ]
     },
     "execution_count": 7,
     "metadata": {},
     "output_type": "execute_result"
    }
   ],
   "source": [
    "# Check null values\n",
    "\n",
    "df.isnull().sum()"
   ]
  },
  {
   "cell_type": "code",
   "execution_count": 8,
   "id": "0966180f",
   "metadata": {},
   "outputs": [
    {
     "data": {
      "text/plain": [
       "ID            0.000000\n",
       "Severity      0.000000\n",
       "CWE           0.141443\n",
       "Type          0.000000\n",
       "Tool          0.000000\n",
       "Location      0.000000\n",
       "Path          0.000000\n",
       "FileName    100.000000\n",
       "Line          0.000000\n",
       "Status        0.000000\n",
       "dtype: float64"
      ]
     },
     "execution_count": 8,
     "metadata": {},
     "output_type": "execute_result"
    }
   ],
   "source": [
    "# Treat null values\n",
    "\n",
    "missing_percentage = (df.isnull().sum() / len(df)) * 100\n",
    "missing_percentage"
   ]
  },
  {
   "cell_type": "code",
   "execution_count": 9,
   "id": "71ac6ee1",
   "metadata": {},
   "outputs": [],
   "source": [
    "for column in df.columns:\n",
    "    if missing_percentage[column] > 70:\n",
    "        df.drop(column, axis=1, inplace= True)"
   ]
  },
  {
   "cell_type": "code",
   "execution_count": 10,
   "id": "65b7dfc0",
   "metadata": {},
   "outputs": [],
   "source": [
    "mode = df['CWE'].mode()[0]\n",
    "df['CWE'].fillna(mode, inplace=True)"
   ]
  },
  {
   "cell_type": "code",
   "execution_count": 11,
   "id": "b46ffae6",
   "metadata": {},
   "outputs": [
    {
     "data": {
      "text/plain": [
       "ID          0\n",
       "Severity    0\n",
       "CWE         0\n",
       "Type        0\n",
       "Tool        0\n",
       "Location    0\n",
       "Path        0\n",
       "Line        0\n",
       "Status      0\n",
       "dtype: int64"
      ]
     },
     "execution_count": 11,
     "metadata": {},
     "output_type": "execute_result"
    }
   ],
   "source": [
    "null_counts = df.isnull().sum()\n",
    "null_counts"
   ]
  },
  {
   "cell_type": "code",
   "execution_count": 14,
   "id": "89b4759e",
   "metadata": {},
   "outputs": [
    {
     "data": {
      "image/png": "[encoded data removed]",
      "text/plain": [
       "<Figure size 720x576 with 1 Axes>"
      ]
     },
     "metadata": {
      "needs_background": "light"
     },
     "output_type": "display_data"
    }
   ],
   "source": [
    "# A boxplot for Status with individual data points of Line\n",
    "# Set figure size\n",
    "\n",
    "plt.figure(figsize=(10, 8))\n",
    "\n",
    "sns.boxplot(x='Status', y='Line', data=df, showfliers=True, width=0.8, palette=\"colorblind\")\n",
    "# sns.stripplot(x='Status', y='Line', data=df, color='black', jitter=0.4, alpha=0.2)\n",
    "\n",
    "# labels and title\n",
    "plt.xlabel('Status', fontsize=14)\n",
    "plt.ylabel('Line', fontsize=14)\n",
    "plt.title('Box Plot for Status with Individual Data Points of Line', fontsize=16)\n",
    "\n",
    "plt.xticks(fontsize=12)\n",
    "plt.yticks(fontsize=12)\n",
    "\n",
    "plt.show()"
   ]
  },
  {
   "cell_type": "code",
   "execution_count": 13,
   "id": "d2c1a8cc",
   "metadata": {},
   "outputs": [
    {
     "name": "stderr",
     "output_type": "stream",
     "text": [
      "No artists with labels found to put in legend.  Note that artists whose label start with an underscore are ignored when legend() is called with no argument.\n"
     ]
    },
    {
     "data": {
      "image/png": "[encoded data removed]",
      "text/plain": [
       "<Figure size 576x432 with 1 Axes>"
      ]
     },
     "metadata": {
      "needs_background": "light"
     },
     "output_type": "display_data"
    }
   ],
   "source": [
    "# A bar graph for frquency distribution\n",
    "# Set figure size\n",
    "\n",
    "plt.figure(figsize=(8, 6))\n",
    "\n",
    "sns.histplot(data=df, x='Status', hue='Severity', multiple='stack', shrink=0.8, palette='colorblind')\n",
    "\n",
    "# labels and title\n",
    "plt.xlabel('Status', fontsize=14)\n",
    "plt.ylabel('Count', fontsize=14)\n",
    "plt.title('Stacked Bar Chart of Frequency Distribution', fontsize=16)\n",
    "plt.legend(title='Severity')\n",
    "\n",
    "plt.show()"
   ]
  },
  {
   "cell_type": "code",
   "execution_count": 15,
   "id": "20c9dea8",
   "metadata": {},
   "outputs": [
    {
     "name": "stderr",
     "output_type": "stream",
     "text": [
      "/var/folders/n7/096q9yp916b5l261qspwb0fc0000gn/T/ipykernel_84143/2059041993.py:19: RuntimeWarning: invalid value encountered in double_scalars\n",
      "  return np.sqrt(phi2corr / min((kcorr - 1), (rcorr - 1)))\n",
      "/var/folders/n7/096q9yp916b5l261qspwb0fc0000gn/T/ipykernel_84143/2059041993.py:19: RuntimeWarning: invalid value encountered in double_scalars\n",
      "  return np.sqrt(phi2corr / min((kcorr - 1), (rcorr - 1)))\n",
      "/var/folders/n7/096q9yp916b5l261qspwb0fc0000gn/T/ipykernel_84143/2059041993.py:19: RuntimeWarning: invalid value encountered in double_scalars\n",
      "  return np.sqrt(phi2corr / min((kcorr - 1), (rcorr - 1)))\n",
      "/var/folders/n7/096q9yp916b5l261qspwb0fc0000gn/T/ipykernel_84143/2059041993.py:19: RuntimeWarning: invalid value encountered in double_scalars\n",
      "  return np.sqrt(phi2corr / min((kcorr - 1), (rcorr - 1)))\n",
      "/var/folders/n7/096q9yp916b5l261qspwb0fc0000gn/T/ipykernel_84143/2059041993.py:19: RuntimeWarning: invalid value encountered in double_scalars\n",
      "  return np.sqrt(phi2corr / min((kcorr - 1), (rcorr - 1)))\n",
      "/var/folders/n7/096q9yp916b5l261qspwb0fc0000gn/T/ipykernel_84143/2059041993.py:19: RuntimeWarning: invalid value encountered in double_scalars\n",
      "  return np.sqrt(phi2corr / min((kcorr - 1), (rcorr - 1)))\n",
      "/var/folders/n7/096q9yp916b5l261qspwb0fc0000gn/T/ipykernel_84143/2059041993.py:19: RuntimeWarning: invalid value encountered in double_scalars\n",
      "  return np.sqrt(phi2corr / min((kcorr - 1), (rcorr - 1)))\n",
      "/var/folders/n7/096q9yp916b5l261qspwb0fc0000gn/T/ipykernel_84143/2059041993.py:19: RuntimeWarning: invalid value encountered in double_scalars\n",
      "  return np.sqrt(phi2corr / min((kcorr - 1), (rcorr - 1)))\n",
      "/var/folders/n7/096q9yp916b5l261qspwb0fc0000gn/T/ipykernel_84143/2059041993.py:19: RuntimeWarning: invalid value encountered in double_scalars\n",
      "  return np.sqrt(phi2corr / min((kcorr - 1), (rcorr - 1)))\n",
      "/var/folders/n7/096q9yp916b5l261qspwb0fc0000gn/T/ipykernel_84143/2059041993.py:19: RuntimeWarning: invalid value encountered in double_scalars\n",
      "  return np.sqrt(phi2corr / min((kcorr - 1), (rcorr - 1)))\n",
      "/var/folders/n7/096q9yp916b5l261qspwb0fc0000gn/T/ipykernel_84143/2059041993.py:19: RuntimeWarning: invalid value encountered in double_scalars\n",
      "  return np.sqrt(phi2corr / min((kcorr - 1), (rcorr - 1)))\n",
      "/var/folders/n7/096q9yp916b5l261qspwb0fc0000gn/T/ipykernel_84143/2059041993.py:19: RuntimeWarning: invalid value encountered in double_scalars\n",
      "  return np.sqrt(phi2corr / min((kcorr - 1), (rcorr - 1)))\n",
      "/var/folders/n7/096q9yp916b5l261qspwb0fc0000gn/T/ipykernel_84143/2059041993.py:19: RuntimeWarning: invalid value encountered in double_scalars\n",
      "  return np.sqrt(phi2corr / min((kcorr - 1), (rcorr - 1)))\n",
      "/var/folders/n7/096q9yp916b5l261qspwb0fc0000gn/T/ipykernel_84143/2059041993.py:19: RuntimeWarning: invalid value encountered in double_scalars\n",
      "  return np.sqrt(phi2corr / min((kcorr - 1), (rcorr - 1)))\n",
      "/var/folders/n7/096q9yp916b5l261qspwb0fc0000gn/T/ipykernel_84143/2059041993.py:19: RuntimeWarning: invalid value encountered in double_scalars\n",
      "  return np.sqrt(phi2corr / min((kcorr - 1), (rcorr - 1)))\n",
      "/var/folders/n7/096q9yp916b5l261qspwb0fc0000gn/T/ipykernel_84143/2059041993.py:19: RuntimeWarning: invalid value encountered in double_scalars\n",
      "  return np.sqrt(phi2corr / min((kcorr - 1), (rcorr - 1)))\n",
      "/var/folders/n7/096q9yp916b5l261qspwb0fc0000gn/T/ipykernel_84143/2059041993.py:19: RuntimeWarning: invalid value encountered in double_scalars\n",
      "  return np.sqrt(phi2corr / min((kcorr - 1), (rcorr - 1)))\n",
      "/var/folders/n7/096q9yp916b5l261qspwb0fc0000gn/T/ipykernel_84143/2059041993.py:19: RuntimeWarning: invalid value encountered in double_scalars\n",
      "  return np.sqrt(phi2corr / min((kcorr - 1), (rcorr - 1)))\n",
      "/var/folders/n7/096q9yp916b5l261qspwb0fc0000gn/T/ipykernel_84143/2059041993.py:19: RuntimeWarning: invalid value encountered in double_scalars\n",
      "  return np.sqrt(phi2corr / min((kcorr - 1), (rcorr - 1)))\n",
      "/var/folders/n7/096q9yp916b5l261qspwb0fc0000gn/T/ipykernel_84143/2059041993.py:19: RuntimeWarning: invalid value encountered in double_scalars\n",
      "  return np.sqrt(phi2corr / min((kcorr - 1), (rcorr - 1)))\n",
      "/var/folders/n7/096q9yp916b5l261qspwb0fc0000gn/T/ipykernel_84143/2059041993.py:19: RuntimeWarning: invalid value encountered in double_scalars\n",
      "  return np.sqrt(phi2corr / min((kcorr - 1), (rcorr - 1)))\n",
      "/var/folders/n7/096q9yp916b5l261qspwb0fc0000gn/T/ipykernel_84143/2059041993.py:19: RuntimeWarning: invalid value encountered in double_scalars\n",
      "  return np.sqrt(phi2corr / min((kcorr - 1), (rcorr - 1)))\n",
      "/var/folders/n7/096q9yp916b5l261qspwb0fc0000gn/T/ipykernel_84143/2059041993.py:19: RuntimeWarning: invalid value encountered in double_scalars\n",
      "  return np.sqrt(phi2corr / min((kcorr - 1), (rcorr - 1)))\n",
      "/var/folders/n7/096q9yp916b5l261qspwb0fc0000gn/T/ipykernel_84143/2059041993.py:19: RuntimeWarning: invalid value encountered in double_scalars\n",
      "  return np.sqrt(phi2corr / min((kcorr - 1), (rcorr - 1)))\n",
      "/var/folders/n7/096q9yp916b5l261qspwb0fc0000gn/T/ipykernel_84143/2059041993.py:19: RuntimeWarning: invalid value encountered in double_scalars\n",
      "  return np.sqrt(phi2corr / min((kcorr - 1), (rcorr - 1)))\n",
      "/var/folders/n7/096q9yp916b5l261qspwb0fc0000gn/T/ipykernel_84143/2059041993.py:19: RuntimeWarning: invalid value encountered in double_scalars\n",
      "  return np.sqrt(phi2corr / min((kcorr - 1), (rcorr - 1)))\n",
      "/var/folders/n7/096q9yp916b5l261qspwb0fc0000gn/T/ipykernel_84143/2059041993.py:19: RuntimeWarning: invalid value encountered in double_scalars\n",
      "  return np.sqrt(phi2corr / min((kcorr - 1), (rcorr - 1)))\n",
      "/var/folders/n7/096q9yp916b5l261qspwb0fc0000gn/T/ipykernel_84143/2059041993.py:19: RuntimeWarning: invalid value encountered in double_scalars\n",
      "  return np.sqrt(phi2corr / min((kcorr - 1), (rcorr - 1)))\n",
      "/var/folders/n7/096q9yp916b5l261qspwb0fc0000gn/T/ipykernel_84143/2059041993.py:19: RuntimeWarning: invalid value encountered in double_scalars\n",
      "  return np.sqrt(phi2corr / min((kcorr - 1), (rcorr - 1)))\n",
      "/var/folders/n7/096q9yp916b5l261qspwb0fc0000gn/T/ipykernel_84143/2059041993.py:19: RuntimeWarning: invalid value encountered in double_scalars\n",
      "  return np.sqrt(phi2corr / min((kcorr - 1), (rcorr - 1)))\n"
     ]
    },
    {
     "data": {
      "image/png": "[encoded data removed]",
      "text/plain": [
       "<Figure size 720x576 with 2 Axes>"
      ]
     },
     "metadata": {
      "needs_background": "light"
     },
     "output_type": "display_data"
    }
   ],
   "source": [
    "# Correlation Matrix\n",
    "\n",
    "from scipy.stats import chi2_contingency\n",
    "\n",
    "# A DataFrame with categorical data\n",
    "columns_for_correlation = ['ID','Severity','CWE','Type','Tool','Location','Path','Line','Status']\n",
    "data = df[columns_for_correlation]\n",
    "\n",
    "# A function to calculate Cramer's V\n",
    "def cramers_v(x, y):\n",
    "    confusion_matrix = pd.crosstab(x, y)\n",
    "    chi2, _, _, _ = chi2_contingency(confusion_matrix)\n",
    "    n = confusion_matrix.sum().sum()\n",
    "    phi2 = chi2 / n\n",
    "    r, k = confusion_matrix.shape\n",
    "    phi2corr = max(0, phi2 - ((k - 1) * (r - 1)) / (n - 1))\n",
    "    rcorr = r - ((r - 1) ** 2) / (n - 1)\n",
    "    kcorr = k - ((k - 1) ** 2) / (n - 1)\n",
    "    return np.sqrt(phi2corr / min((kcorr - 1), (rcorr - 1)))\n",
    "\n",
    "# An empty correlation matrix\n",
    "num_features = len(data.columns)\n",
    "correlation_matrix = np.zeros((num_features, num_features))\n",
    "\n",
    "# Calculate Cramer's V for each pair of categorical variables\n",
    "for i in range(num_features):\n",
    "    for j in range(num_features):\n",
    "        if i == j:\n",
    "            correlation_matrix[i, j] = 1.0\n",
    "        else:\n",
    "            correlation_matrix[i, j] = cramers_v(data.iloc[:, i], data.iloc[:, j])"
   ]
  },
  {
   "cell_type": "code",
   "execution_count": 16,
   "id": "3c04a447",
   "metadata": {},
   "outputs": [
    {
     "data": {
      "image/png": "[encoded data removed]",
      "text/plain": [
       "<Figure size 720x576 with 2 Axes>"
      ]
     },
     "metadata": {
      "needs_background": "light"
     },
     "output_type": "display_data"
    }
   ],
   "source": [
    "# The correlation matrix\n",
    "correlation_df = pd.DataFrame(correlation_matrix, columns=data.columns, index=data.columns)\n",
    "\n",
    "correlation_matrix = correlation_df\n",
    "plt.figure(figsize=(10, 8))\n",
    "sns.heatmap(correlation_matrix, annot=True, cmap='coolwarm', linewidths=0.5)\n",
    "plt.title('Correlation Heatmap')\n",
    "\n",
    "plt.show()"
   ]
  },
  {
   "cell_type": "code",
   "execution_count": 17,
   "id": "99a0e24b",
   "metadata": {},
   "outputs": [],
   "source": [
    "# Drop unnecessary columns\n",
    "\n",
    "for x in ['ID','Tool','Path']:\n",
    "    df.drop(x, axis=1, inplace= True)"
   ]
  },
  {
   "cell_type": "code",
   "execution_count": 18,
   "id": "ad59b6ad",
   "metadata": {},
   "outputs": [],
   "source": [
    "# Input variables for modelling\n",
    "\n",
    "ip_variables = ['Severity','CWE','Type','Location','Line',]"
   ]
  },
  {
   "cell_type": "code",
   "execution_count": 19,
   "id": "f8866d92",
   "metadata": {},
   "outputs": [],
   "source": [
    "# Transform required columns\n",
    "\n",
    "X = df[ip_variables]\n",
    "y = df['Status']\n",
    "\n",
    "categorical_cols = ['Severity','CWE','Type','Location']\n",
    "numerical_cols = ['Line']\n",
    "\n",
    "# The transformer\n",
    "categorical_transformer = ColumnTransformer(\n",
    "    transformers=[\n",
    "        ('cat', OneHotEncoder(sparse=False, drop='first'), categorical_cols)\n",
    "    ],\n",
    "    remainder='passthrough'  # Keep other columns unchanged\n",
    ")\n",
    "\n",
    "# Create a pipeline\n",
    "from sklearn.pipeline import Pipeline\n",
    "\n",
    "preprocessor = Pipeline(\n",
    "    steps=[\n",
    "        ('categorical', categorical_transformer)\n",
    "    ]\n",
    ")"
   ]
  },
  {
   "cell_type": "code",
   "execution_count": 20,
   "id": "eadf1a56",
   "metadata": {},
   "outputs": [],
   "source": [
    "# Train-test split\n",
    "\n",
    "X_transformed = preprocessor.fit_transform(X)\n",
    "X_train, X_test, y_train, y_test = train_test_split(X_transformed, y, test_size=0.2, random_state=42)"
   ]
  },
  {
   "cell_type": "code",
   "execution_count": 22,
   "id": "3dce4bb1",
   "metadata": {},
   "outputs": [
    {
     "name": "stdout",
     "output_type": "stream",
     "text": [
      "Logistic Regression Accuracy: 0.9225352112676056\n"
     ]
    }
   ],
   "source": [
    "# A Logistic Regression classifier\n",
    "\n",
    "lr_classifier = LogisticRegression(solver='lbfgs', max_iter=1000)\n",
    "lr_classifier.fit(X_train, y_train)\n",
    "y_lr_pred = lr_classifier.predict(X_test)\n",
    "lr_accuracy = accuracy_score(y_test, y_lr_pred)\n",
    "print(\"Logistic Regression Accuracy:\", lr_accuracy)"
   ]
  },
  {
   "cell_type": "code",
   "execution_count": 23,
   "id": "9ca931b7",
   "metadata": {},
   "outputs": [
    {
     "name": "stderr",
     "output_type": "stream",
     "text": [
      "/Users/anshaya/opt/anaconda3/lib/python3.9/site-packages/sklearn/utils/deprecation.py:87: FutureWarning: Function plot_confusion_matrix is deprecated; Function `plot_confusion_matrix` is deprecated in 1.0 and will be removed in 1.2. Use one of the class methods: ConfusionMatrixDisplay.from_predictions or ConfusionMatrixDisplay.from_estimator.\n",
      "  warnings.warn(msg, category=FutureWarning)\n"
     ]
    },
    {
     "data": {
      "image/png": "[encoded data removed]",
      "text/plain": [
       "<Figure size 432x288 with 2 Axes>"
      ]
     },
     "metadata": {
      "needs_background": "light"
     },
     "output_type": "display_data"
    }
   ],
   "source": [
    "# The logistic Regression confusion matrix\n",
    "\n",
    "lg_confusion = confusion_matrix(y_test, y_lr_pred)\n",
    "\n",
    "plot_confusion_matrix(lr_classifier, X_test, y_test)\n",
    "plt.title('Logistic Regression Confusion Matrix')\n",
    "plt.show()"
   ]
  },
  {
   "cell_type": "code",
   "execution_count": 24,
   "id": "c0fd6262",
   "metadata": {
    "scrolled": true
   },
   "outputs": [],
   "source": [
    "# Parameters for a Random Forest Classifier\n",
    "\n",
    "from sklearn.model_selection import RandomizedSearchCV\n",
    "\n",
    "param_dist = {\n",
    "    'n_estimators': [100, 200, 300],\n",
    "    'max_depth': [None, 10, 20, 30],\n",
    "    'min_samples_split': [2, 5, 10],\n",
    "    'min_samples_leaf': [1, 2, 4]\n",
    "}\n",
    "\n",
    "random_search = RandomizedSearchCV(\n",
    "    RandomForestClassifier(),\n",
    "    param_distributions=param_dist,\n",
    "    n_iter=1,  # Adjust the number of iterations\n",
    "    cv=5\n",
    ")\n",
    "\n",
    "random_search.fit(X_train, y_train)\n",
    "\n",
    "# The best parameters\n",
    "best_params = random_search.best_params_"
   ]
  },
  {
   "cell_type": "code",
   "execution_count": 25,
   "id": "0d04c6c4",
   "metadata": {},
   "outputs": [
    {
     "name": "stdout",
     "output_type": "stream",
     "text": [
      "Random Forest Accuracy: 0.9366197183098591\n"
     ]
    }
   ],
   "source": [
    "# A Random Forest Classifier\n",
    "\n",
    "best_rf_model = RandomForestClassifier(\n",
    "    n_estimators=best_params['n_estimators'],\n",
    "    max_depth=best_params['max_depth'],\n",
    "    min_samples_split=best_params['min_samples_split'],\n",
    "    min_samples_leaf=best_params['min_samples_leaf']\n",
    ")\n",
    "\n",
    "best_rf_model.fit(X_train, y_train)\n",
    "\n",
    "y_rf_pred = best_rf_model.predict(X_test)\n",
    "rf_accuracy = accuracy_score(y_test, y_rf_pred)\n",
    "print(\"Random Forest Accuracy:\", rf_accuracy)"
   ]
  },
  {
   "cell_type": "code",
   "execution_count": 26,
   "id": "3ae4f96f",
   "metadata": {},
   "outputs": [
    {
     "name": "stderr",
     "output_type": "stream",
     "text": [
      "/Users/anshaya/opt/anaconda3/lib/python3.9/site-packages/sklearn/utils/deprecation.py:87: FutureWarning: Function plot_confusion_matrix is deprecated; Function `plot_confusion_matrix` is deprecated in 1.0 and will be removed in 1.2. Use one of the class methods: ConfusionMatrixDisplay.from_predictions or ConfusionMatrixDisplay.from_estimator.\n",
      "  warnings.warn(msg, category=FutureWarning)\n"
     ]
    },
    {
     "data": {
      "image/png": "[encoded data removed]",
      "text/plain": [
       "<Figure size 432x288 with 2 Axes>"
      ]
     },
     "metadata": {
      "needs_background": "light"
     },
     "output_type": "display_data"
    }
   ],
   "source": [
    "# The Random Forest confusion matrix\n",
    "\n",
    "rf_confusion = confusion_matrix(y_test, y_rf_pred)\n",
    "\n",
    "plot_confusion_matrix(best_rf_model, X_test, y_test)\n",
    "plt.title('Random Forest Confusion Matrix')\n",
    "plt.show()"
   ]
  },
  {
   "cell_type": "code",
   "execution_count": 27,
   "id": "4c459ada",
   "metadata": {},
   "outputs": [
    {
     "name": "stdout",
     "output_type": "stream",
     "text": [
      "Support Vector Machine Accuracy:  0.7887323943661971\n"
     ]
    }
   ],
   "source": [
    "# An Support Vector Machine Classifier\n",
    "\n",
    "svm_classifier = SVC(kernel='poly', C=1.0) \n",
    "svm_classifier.fit(X_train, y_train)\n",
    "\n",
    "y_svm_pred = svm_classifier.predict(X_test)\n",
    "accuracy = accuracy_score(y_test, y_svm_pred)\n",
    "print('Support Vector Machine Accuracy: ', accuracy)"
   ]
  },
  {
   "cell_type": "code",
   "execution_count": 28,
   "id": "1c47fb92",
   "metadata": {},
   "outputs": [
    {
     "name": "stderr",
     "output_type": "stream",
     "text": [
      "/Users/anshaya/opt/anaconda3/lib/python3.9/site-packages/sklearn/utils/deprecation.py:87: FutureWarning: Function plot_confusion_matrix is deprecated; Function `plot_confusion_matrix` is deprecated in 1.0 and will be removed in 1.2. Use one of the class methods: ConfusionMatrixDisplay.from_predictions or ConfusionMatrixDisplay.from_estimator.\n",
      "  warnings.warn(msg, category=FutureWarning)\n"
     ]
    },
    {
     "data": {
      "image/png": "[encoded data removed]",
      "text/plain": [
       "<Figure size 432x288 with 2 Axes>"
      ]
     },
     "metadata": {
      "needs_background": "light"
     },
     "output_type": "display_data"
    }
   ],
   "source": [
    "# The Support Vector Machine confusion matrix\n",
    "\n",
    "SVM_confusion = confusion_matrix(y_test, y_svm_pred)\n",
    "\n",
    "plot_confusion_matrix(svm_classifier, X_test, y_test)\n",
    "plt.title('Support Vectyor Machine Confusion Matrix')\n",
    "plt.show()"
   ]
  },
  {
   "cell_type": "code",
   "execution_count": 29,
   "id": "eae571d7",
   "metadata": {},
   "outputs": [
    {
     "name": "stdout",
     "output_type": "stream",
     "text": [
      "The K-Nearest Neighbor Accuracy:  0.8380281690140845\n"
     ]
    }
   ],
   "source": [
    "# The K-Nearest Neighbor Classifier\n",
    "\n",
    "knn_classifier = KNeighborsClassifier(n_neighbors=3)\n",
    "knn_classifier.fit(X_train, y_train)\n",
    "\n",
    "y_knn_pred = knn_classifier.predict(X_test)\n",
    "accuracy = accuracy_score(y_test, y_knn_pred)\n",
    "print('The K-Nearest Neighbor Accuracy: ', accuracy)"
   ]
  },
  {
   "cell_type": "code",
   "execution_count": 30,
   "id": "77f09f80",
   "metadata": {},
   "outputs": [
    {
     "name": "stderr",
     "output_type": "stream",
     "text": [
      "/Users/anshaya/opt/anaconda3/lib/python3.9/site-packages/sklearn/utils/deprecation.py:87: FutureWarning: Function plot_confusion_matrix is deprecated; Function `plot_confusion_matrix` is deprecated in 1.0 and will be removed in 1.2. Use one of the class methods: ConfusionMatrixDisplay.from_predictions or ConfusionMatrixDisplay.from_estimator.\n",
      "  warnings.warn(msg, category=FutureWarning)\n"
     ]
    },
    {
     "data": {
      "image/png": "[encoded data removed]",
      "text/plain": [
       "<Figure size 432x288 with 2 Axes>"
      ]
     },
     "metadata": {
      "needs_background": "light"
     },
     "output_type": "display_data"
    }
   ],
   "source": [
    "# The K-Nearest Neighbor confusion matrix\n",
    "Knn_confusion = confusion_matrix(y_test, y_knn_pred)\n",
    "\n",
    "plot_confusion_matrix(knn_classifier, X_test, y_test)\n",
    "plt.title('Knn Confusion Matrix')\n",
    "plt.show()"
   ]
  },
  {
   "cell_type": "code",
   "execution_count": null,
   "id": "23dd8b36",
   "metadata": {},
   "outputs": [],
   "source": []
  }
 ],
 "metadata": {
  "kernelspec": {
   "display_name": "Python 3 (ipykernel)",
   "language": "python",
   "name": "python3"
  },
  "language_info": {
   "codemirror_mode": {
    "name": "ipython",
    "version": 3
   },
   "file_extension": ".py",
   "mimetype": "text/x-python",
   "name": "python",
   "nbconvert_exporter": "python",
   "pygments_lexer": "ipython3",
   "version": "3.9.12"
  }
 },
 "nbformat": 4,
 "nbformat_minor": 5
}
